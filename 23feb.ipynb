{
 "cells": [
  {
   "cell_type": "code",
   "execution_count": 2,
   "id": "eeca62f0-c9ee-43fb-ae1b-1ef8cd38a741",
   "metadata": {},
   "outputs": [
    {
     "name": "stdout",
     "output_type": "stream",
     "text": [
      "0     4\n",
      "1     8\n",
      "2    15\n",
      "3    16\n",
      "4    23\n",
      "5    42\n",
      "dtype: int64\n"
     ]
    }
   ],
   "source": [
    "#1)\n",
    "import pandas as pd\n",
    "list=[4,8,15,16,23,42]\n",
    "s=pd.Series(list)\n",
    "print(s)"
   ]
  },
  {
   "cell_type": "code",
   "execution_count": 8,
   "id": "2c59b6fc-dc4a-432c-9125-2ebd64f7dab4",
   "metadata": {},
   "outputs": [
    {
     "name": "stdout",
     "output_type": "stream",
     "text": [
      "0     1\n",
      "1     2\n",
      "2     3\n",
      "3     4\n",
      "4     5\n",
      "5     6\n",
      "6     7\n",
      "7     8\n",
      "8     9\n",
      "9    10\n",
      "dtype: int64\n"
     ]
    }
   ],
   "source": [
    "#2)\n",
    "import pandas as pd\n",
    "l=[1,2,3,4,5,6,7,8,9,10]\n",
    "s=pd.Series(l)\n",
    "print(s)\n"
   ]
  },
  {
   "cell_type": "code",
   "execution_count": 14,
   "id": "65015af9-33bb-4937-a0bd-f0e4f5a2d263",
   "metadata": {},
   "outputs": [
    {
     "name": "stdout",
     "output_type": "stream",
     "text": [
      "     Name  Age  Gender\n",
      "0   Alice   25  Female\n",
      "1     Bob   30    Male\n",
      "2  Claire   27  Female\n"
     ]
    }
   ],
   "source": [
    "#3)\n",
    "import pandas as pd\n",
    "dict={'Name':['Alice','Bob','Claire'],'Age':[25,30,27],'Gender':['Female','Male','Female']}\n",
    "df=pd.DataFrame(dict)\n",
    "print((df))"
   ]
  },
  {
   "cell_type": "code",
   "execution_count": 16,
   "id": "6adc5edc-5397-4bac-a73e-8671a9716dd0",
   "metadata": {},
   "outputs": [
    {
     "name": "stdout",
     "output_type": "stream",
     "text": [
      "<---This is DataFrame---->\n",
      "  Name  No.\n",
      "0    a    1\n",
      "1    b    2\n",
      "2    c    3\n",
      "<---This is Series---->\n",
      "0    1\n",
      "1    2\n",
      "2    3\n",
      "Name: No., dtype: int64\n"
     ]
    }
   ],
   "source": [
    "#4)\n",
    "#A dataframe in pandas can have multiple columns that can have different type of data in it whereas a series in pandas is similar to list having indexes and has only one column with similar type of data in it.\n",
    "import pandas as pd \n",
    "dict={'Name':['a','b','c'],'No.':[1,2,3]}\n",
    "df=pd.DataFrame(dict)\n",
    "print('<---This is DataFrame---->')\n",
    "print(df)\n",
    "s=df['No.']\n",
    "print('<---This is Series---->')\n",
    "print(s)"
   ]
  },
  {
   "cell_type": "code",
   "execution_count": 21,
   "id": "854a88c4-74f3-43db-a4ca-20542fde04db",
   "metadata": {},
   "outputs": [
    {
     "data": {
      "text/html": [
       "<div>\n",
       "<style scoped>\n",
       "    .dataframe tbody tr th:only-of-type {\n",
       "        vertical-align: middle;\n",
       "    }\n",
       "\n",
       "    .dataframe tbody tr th {\n",
       "        vertical-align: top;\n",
       "    }\n",
       "\n",
       "    .dataframe thead th {\n",
       "        text-align: right;\n",
       "    }\n",
       "</style>\n",
       "<table border=\"1\" class=\"dataframe\">\n",
       "  <thead>\n",
       "    <tr style=\"text-align: right;\">\n",
       "      <th></th>\n",
       "      <th>No.s</th>\n",
       "    </tr>\n",
       "  </thead>\n",
       "  <tbody>\n",
       "    <tr>\n",
       "      <th>5</th>\n",
       "      <td>6</td>\n",
       "    </tr>\n",
       "    <tr>\n",
       "      <th>6</th>\n",
       "      <td>7</td>\n",
       "    </tr>\n",
       "    <tr>\n",
       "      <th>7</th>\n",
       "      <td>8</td>\n",
       "    </tr>\n",
       "    <tr>\n",
       "      <th>8</th>\n",
       "      <td>9</td>\n",
       "    </tr>\n",
       "    <tr>\n",
       "      <th>9</th>\n",
       "      <td>10</td>\n",
       "    </tr>\n",
       "  </tbody>\n",
       "</table>\n",
       "</div>"
      ],
      "text/plain": [
       "   No.s\n",
       "5     6\n",
       "6     7\n",
       "7     8\n",
       "8     9\n",
       "9    10"
      ]
     },
     "execution_count": 21,
     "metadata": {},
     "output_type": "execute_result"
    }
   ],
   "source": [
    "#5)\n",
    "#Some of the functions used in dataframe are head(), tail(), describe(), read_csv(), to_csv(), dtypes, columns, unique(),etc.\n",
    "import pandas as pd\n",
    "l=[1,2,3,4,5,6,7,8,9,10]\n",
    "df=pd.DataFrame(l,columns=['No.s'])\n",
    "df.tail()\n"
   ]
  },
  {
   "cell_type": "code",
   "execution_count": null,
   "id": "0498051e-c9ac-4038-9956-a41ac592a1e3",
   "metadata": {},
   "outputs": [],
   "source": [
    "#6)\n",
    "#Dataframe and Panel in pandas are mutable but the series is only value mutable not size mutable."
   ]
  },
  {
   "cell_type": "code",
   "execution_count": 8,
   "id": "cbc54493-7b03-4280-a4cf-5d10251b453f",
   "metadata": {},
   "outputs": [
    {
     "name": "stdout",
     "output_type": "stream",
     "text": [
      "     Name  Age  Gender\n",
      "0   Alice   25  Female\n",
      "1     Bob   30    Male\n",
      "2  Claire   27  Female\n"
     ]
    }
   ],
   "source": [
    "#7)\n",
    "import pandas as pd\n",
    "Name=['Alice','Bob','Claire']\n",
    "s1=pd.Series(Name)\n",
    "Age=[25,30,27]\n",
    "s2=pd.Series(Age)\n",
    "Gender=['Female','Male','Female']\n",
    "s3=pd.Series(Gender)\n",
    "df={'Name':s1,'Age':s2,'Gender':s3}\n",
    "df1=pd.DataFrame(df)\n",
    "print(df1)\n",
    "\n"
   ]
  },
  {
   "cell_type": "code",
   "execution_count": null,
   "id": "ea871f75-1a86-435b-8413-048053f313cc",
   "metadata": {},
   "outputs": [],
   "source": []
  }
 ],
 "metadata": {
  "kernelspec": {
   "display_name": "Python 3 (ipykernel)",
   "language": "python",
   "name": "python3"
  },
  "language_info": {
   "codemirror_mode": {
    "name": "ipython",
    "version": 3
   },
   "file_extension": ".py",
   "mimetype": "text/x-python",
   "name": "python",
   "nbconvert_exporter": "python",
   "pygments_lexer": "ipython3",
   "version": "3.10.8"
  }
 },
 "nbformat": 4,
 "nbformat_minor": 5
}
